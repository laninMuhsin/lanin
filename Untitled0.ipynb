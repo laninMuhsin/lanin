{
  "nbformat": 4,
  "nbformat_minor": 0,
  "metadata": {
    "colab": {
      "provenance": []
    },
    "kernelspec": {
      "name": "python3",
      "display_name": "Python 3"
    },
    "language_info": {
      "name": "python"
    }
  },
  "cells": [
    {
      "cell_type": "code",
      "execution_count": null,
      "metadata": {
        "colab": {
          "base_uri": "https://localhost:8080/"
        },
        "id": "7kqeZQuHmaoN",
        "outputId": "e5b3bb80-4658-4968-ef3b-20c506c5f3a9"
      },
      "outputs": [
        {
          "output_type": "stream",
          "name": "stdout",
          "text": [
            "First Guess: 1\n",
            "Second Guess: 2\n",
            "Tolerable Error: 0.08\n",
            "\n",
            "\n",
            "*** BISECTION METHOD IMPLEMENTATION ***\n",
            "Iteration-1, x2 = 1.500000 and f(x2) = 2.375000\n",
            "Iteration-2, x2 = 1.250000 and f(x2) = -1.796875\n",
            "Iteration-3, x2 = 1.375000 and f(x2) = 0.162109\n",
            "Iteration-4, x2 = 1.312500 and f(x2) = -0.848389\n",
            "Iteration-5, x2 = 1.343750 and f(x2) = -0.350983\n",
            "Iteration-6, x2 = 1.359375 and f(x2) = -0.096409\n",
            "Iteration-7, x2 = 1.367188 and f(x2) = 0.032356\n",
            "\n",
            "Required Root is : 1.36718750\n"
          ]
        }
      ],
      "source": [
        "def f(x):\n",
        "    return x**3+4*x**2-10\n",
        "\n",
        "\n",
        "def bisection(x0,x1,e):\n",
        "    step = 1\n",
        "    print('\\n\\n*** BISECTION METHOD IMPLEMENTATION ***')\n",
        "    condition = True\n",
        "    while condition:\n",
        "        x2 = (x0 + x1)/2\n",
        "        print('Iteration-%d, x2 = %0.6f and f(x2) = %0.6f' % (step, x2, f(x2)))\n",
        "\n",
        "        if f(x0) * f(x2) < 0:\n",
        "            x1 = x2\n",
        "        else:\n",
        "            x0 = x2\n",
        "        \n",
        "        step = step + 1\n",
        "        condition = abs(f(x2)) > e\n",
        "\n",
        "    print('\\nRequired Root is : %0.8f' % x2)\n",
        "\n",
        "\n",
        "x0 = input('First Guess: ')\n",
        "x1 = input('Second Guess: ')\n",
        "e = input('Tolerable Error: ')\n",
        "\n",
        "\n",
        "x0 = float(x0)\n",
        "x1 = float(x1)\n",
        "e = float(e)\n",
        "\n",
        "\n",
        "\n",
        "if f(x0) * f(x1) > 0.0:\n",
        "    print('Given guess values do not bracket the root.')\n",
        "    print('Try Again with different guess values.')\n",
        "else:\n",
        "    bisection(x0,x1,e)\n",
        "    "
      ]
    }
  ]
}